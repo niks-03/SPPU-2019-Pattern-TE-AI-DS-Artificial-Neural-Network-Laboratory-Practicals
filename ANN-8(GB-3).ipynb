{
 "cells": [
  {
   "cell_type": "markdown",
   "metadata": {},
   "source": [
    "8. Write a python program in python program for creating a Back Propagation Feed-forward neural network"
   ]
  },
  {
   "cell_type": "code",
   "execution_count": 1,
   "metadata": {},
   "outputs": [],
   "source": [
    "import numpy as np"
   ]
  },
  {
   "cell_type": "code",
   "execution_count": 3,
   "metadata": {},
   "outputs": [
    {
     "name": "stdout",
     "output_type": "stream",
     "text": [
      "epoch 0: 0.1435423279383844\n",
      "epoch 500: 0.00616637691006431\n",
      "epoch 1000: 0.002853820930900827\n",
      "epoch 1500: 0.0018280441345465417\n",
      "epoch 2000: 0.0013370509225890115\n",
      "epoch 2500: 0.001050997740007336\n",
      "epoch 3000: 0.0008643625255187505\n",
      "epoch 3500: 0.0007332551346868052\n",
      "epoch 4000: 0.0006362319088302015\n",
      "epoch 4500: 0.0005615989993026905\n",
      "epoch 5000: 0.0005024471461777756\n",
      "epoch 5500: 0.0004544363629625585\n",
      "epoch 6000: 0.00041470553377044106\n",
      "epoch 6500: 0.0003812931451198953\n",
      "epoch 7000: 0.0003528101508002695\n",
      "epoch 7500: 0.00032824572129794126\n",
      "epoch 8000: 0.00030684695794461344\n",
      "epoch 8500: 0.00028804170743135737\n",
      "epoch 9000: 0.00027138749221295626\n",
      "epoch 9500: 0.0002565368080583198\n",
      "epoch 10000: 0.00024321298526693773\n",
      "epoch 10500: 0.00023119304669795687\n",
      "epoch 11000: 0.0002202953078041569\n",
      "epoch 11500: 0.00021037025714389624\n",
      "epoch 12000: 0.00020129374856081835\n",
      "epoch 12500: 0.00019296184973407668\n",
      "epoch 13000: 0.00018528689568246556\n",
      "epoch 13500: 0.00017819443103755378\n",
      "epoch 14000: 0.00017162081622834358\n",
      "epoch 14500: 0.00016551133542204324\n",
      "epoch 15000: 0.00015981868777100526\n",
      "epoch 15500: 0.00015450177440851746\n",
      "epoch 16000: 0.00014952471575571487\n",
      "epoch 16500: 0.00014485604973098\n",
      "epoch 17000: 0.00014046807319860913\n",
      "epoch 17500: 0.00013633629769034517\n",
      "epoch 18000: 0.00013243899693544738\n",
      "epoch 18500: 0.00012875682864085344\n",
      "epoch 19000: 0.00012527251669624054\n",
      "epoch 19500: 0.00012197058284260182\n",
      "epoch 20000: 0.00011883711905667398\n",
      "epoch 20500: 0.00011585959362683998\n",
      "epoch 21000: 0.0001130266852470083\n",
      "epoch 21500: 0.00011032814052044298\n",
      "epoch 22000: 0.00010775465111131432\n",
      "epoch 22500: 0.00010529774745673617\n",
      "epoch 23000: 0.00010294970649402948\n",
      "epoch 23500: 0.00010070347129508075\n",
      "epoch 24000: 9.855258085427141e-05\n",
      "epoch 24500: 9.649110856531312e-05\n",
      "epoch 25000: 9.451360815875768e-05\n",
      "epoch 25500: 9.26150660663541e-05\n",
      "epoch 26000: 9.079085933884715e-05\n",
      "epoch 26500: 8.903671837682609e-05\n",
      "epoch 27000: 8.734869384484419e-05\n",
      "epoch 27500: 8.572312723148615e-05\n",
      "epoch 28000: 8.415662459536848e-05\n",
      "epoch 28500: 8.26460331022828e-05\n",
      "epoch 29000: 8.11884200135476e-05\n",
      "epoch 29500: 7.978105383211088e-05\n"
     ]
    }
   ],
   "source": [
    "X=np.array([[0,0],\n",
    "            [0,1],\n",
    "            [1,0],\n",
    "            [1,1]]\n",
    ")\n",
    "y=np.array([[0],\n",
    "            [1],\n",
    "            [1],\n",
    "            [1]])\n",
    "lr=0.5\n",
    "np.random.seed(0)\n",
    "weights=np.random.randn(2,1)\n",
    "bias=np.random.randn(1)\n",
    "\n",
    "def sigmoid(x):\n",
    "    return 1/(1+np.exp(-x))\n",
    "\n",
    "def sigmoid_derivative(x):\n",
    "    return x*(1-x)\n",
    "\n",
    "def cost_fun(y,output):\n",
    "    return np.mean((y-output)**2)\n",
    "\n",
    "def forward_fun(x,weights, bias):\n",
    "    z = np.dot(x,weights) + bias\n",
    "    return sigmoid(z)\n",
    "\n",
    "def backward_fun(X,y,output, weights,bias,lr):\n",
    "    error = y - output\n",
    "    d_output = error * sigmoid_derivative(output)\n",
    "    d_weights = np.dot(X.T, d_output)\n",
    "    d_bias = np.sum(d_output)\n",
    "\n",
    "    weights += lr * d_weights\n",
    "    bias += lr * d_bias\n",
    "\n",
    "    return weights,bias\n",
    "\n",
    "for epoch in range(30000):\n",
    "    output = forward_fun(X,weights,bias)\n",
    "    weights, bias = backward_fun(X,y,output, weights,bias,lr)\n",
    "\n",
    "    cost = cost_fun(y, output)\n",
    "    if epoch%500 == 0:\n",
    "        print(f'epoch {epoch}:', cost)\n"
   ]
  },
  {
   "cell_type": "code",
   "execution_count": 4,
   "metadata": {},
   "outputs": [
    {
     "name": "stdout",
     "output_type": "stream",
     "text": [
      "[1.]\n"
     ]
    }
   ],
   "source": [
    "testing = np.array([1,0])\n",
    "print(forward_fun(testing,weights,bias).round())"
   ]
  }
 ],
 "metadata": {
  "kernelspec": {
   "display_name": "Python 3",
   "language": "python",
   "name": "python3"
  },
  "language_info": {
   "codemirror_mode": {
    "name": "ipython",
    "version": 3
   },
   "file_extension": ".py",
   "mimetype": "text/x-python",
   "name": "python",
   "nbconvert_exporter": "python",
   "pygments_lexer": "ipython3",
   "version": "3.10.11"
  }
 },
 "nbformat": 4,
 "nbformat_minor": 2
}
