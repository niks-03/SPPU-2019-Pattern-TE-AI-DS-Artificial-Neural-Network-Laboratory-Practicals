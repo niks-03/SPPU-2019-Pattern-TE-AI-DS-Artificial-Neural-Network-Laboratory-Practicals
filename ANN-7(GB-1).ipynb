{
 "cells": [
  {
   "cell_type": "markdown",
   "metadata": {},
   "source": [
    "7. Write a python program to show Back Propagation Network for XOR function with Binary Input and Output"
   ]
  },
  {
   "cell_type": "code",
   "execution_count": 3,
   "metadata": {},
   "outputs": [],
   "source": [
    "import numpy as np\n",
    "\n",
    "x = np.array([[0, 0],\n",
    "              [0, 1],\n",
    "              [1, 0],\n",
    "              [1, 1]])\n",
    "\n",
    "y = np.array([[0],\n",
    "              [1],\n",
    "              [1],\n",
    "              [0]])\n",
    "\n",
    "lr = 0.5\n",
    "\n",
    "class XOR:\n",
    "    def __init__(self, x, y, lr):\n",
    "        self.x = x\n",
    "        self.y = y\n",
    "        self.lr = lr\n",
    "        np.random.seed(0)\n",
    "        self.w1 = np.random.randn(2, 2)\n",
    "        self.b1 = np.random.randn(2)\n",
    "        self.w2 = np.random.randn(2, 1)\n",
    "        self.b2 = np.random.randn(1)\n",
    "\n",
    "    def sigmoid(self, x):\n",
    "        return 1 / (1 + np.exp(-x))\n",
    "\n",
    "    def sigmoid_derivative(self, x):\n",
    "        return x * (1 - x)\n",
    "\n",
    "    def costfn(self, y_true, y_pred):\n",
    "        return np.mean((y_true - y_pred) ** 2)\n",
    "\n",
    "    def forward(self, x):\n",
    "        self.z1 = np.dot(x, self.w1) + self.b1\n",
    "        self.s1 = self.sigmoid(self.z1)\n",
    "        self.z2 = np.dot(self.s1, self.w2) + self.b2\n",
    "        self.s2 = self.sigmoid(self.z2)\n",
    "        return self.s2\n",
    "\n",
    "    def backward(self, x, y, output):\n",
    "        self.output_error = y - output\n",
    "        self.d_output = self.output_error * self.sigmoid_derivative(output)\n",
    "        self.d_b = np.sum(self.d_output, axis=0)\n",
    "        self.d_w = np.dot(self.s1.T, self.d_output)\n",
    "\n",
    "        self.z1_error = np.dot(self.d_output, self.w2.T)\n",
    "        self.d_z1 = self.z1_error * self.sigmoid_derivative(self.s1)\n",
    "        self.d_z1_b = np.sum(self.d_z1, axis=0)\n",
    "        self.d_z1_w = np.dot(x.T, self.d_z1)  # Gradient of weights between input and hidden layer\n",
    "\n",
    "        self.w1 += self.lr * self.d_z1_w  # No reshape needed\n",
    "        self.b1 += self.lr * self.d_z1_b\n",
    "        self.w2 += self.lr * self.d_w\n",
    "        self.b2 += self.lr * self.d_b\n",
    "\n",
    "    def train(self, x, y):\n",
    "        for epoch in range(10000):\n",
    "            output = self.forward(x)\n",
    "            self.backward(x, y, output)\n",
    "            \n",
    "            if epoch%1000==0:\n",
    "                cost=self.costfn(y,output)\n",
    "                print(f\"epoch {epoch} --> cost: {cost}\")\n",
    "\n",
    "    def predict(self, x):\n",
    "        return self.forward(x)\n"
   ]
  },
  {
   "cell_type": "code",
   "execution_count": 4,
   "metadata": {},
   "outputs": [
    {
     "name": "stdout",
     "output_type": "stream",
     "text": [
      "epoch 0 --> cost: 0.2758939665272203\n",
      "epoch 1000 --> cost: 0.009425974693317758\n",
      "epoch 2000 --> cost: 0.0023769219745728406\n",
      "epoch 3000 --> cost: 0.0013004791454644038\n",
      "epoch 4000 --> cost: 0.000884090354474283\n",
      "epoch 5000 --> cost: 0.00066599055787683\n",
      "epoch 6000 --> cost: 0.0005325936988364862\n",
      "epoch 7000 --> cost: 0.0004428895536246488\n",
      "epoch 8000 --> cost: 0.00037857303193573313\n",
      "epoch 9000 --> cost: 0.00033027462947980934\n"
     ]
    }
   ],
   "source": [
    "\n",
    "xor = XOR(x, y, lr)\n",
    "xor.train(x, y)"
   ]
  },
  {
   "cell_type": "code",
   "execution_count": 6,
   "metadata": {},
   "outputs": [
    {
     "data": {
      "text/plain": [
       "array([[0.],\n",
       "       [1.],\n",
       "       [1.],\n",
       "       [0.]])"
      ]
     },
     "execution_count": 6,
     "metadata": {},
     "output_type": "execute_result"
    }
   ],
   "source": [
    "test = np.array([[0, 0],\n",
    "              [0, 1],\n",
    "              [1, 0],\n",
    "              [1, 1]])\n",
    "xor.predict(test).round()"
   ]
  }
 ],
 "metadata": {
  "kernelspec": {
   "display_name": "Python 3",
   "language": "python",
   "name": "python3"
  },
  "language_info": {
   "codemirror_mode": {
    "name": "ipython",
    "version": 3
   },
   "file_extension": ".py",
   "mimetype": "text/x-python",
   "name": "python",
   "nbconvert_exporter": "python",
   "pygments_lexer": "ipython3",
   "version": "3.12.3"
  }
 },
 "nbformat": 4,
 "nbformat_minor": 2
}
