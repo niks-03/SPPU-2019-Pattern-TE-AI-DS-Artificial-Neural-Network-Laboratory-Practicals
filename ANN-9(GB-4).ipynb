{
 "cells": [
  {
   "cell_type": "markdown",
   "metadata": {},
   "source": [
    "9. Write a python program to design a Hopfield Network which stores 4 vectors"
   ]
  },
  {
   "cell_type": "code",
   "execution_count": null,
   "metadata": {},
   "outputs": [
    {
     "name": "stdout",
     "output_type": "stream",
     "text": [
      "Noisy Pattern: [1 1 1 1]\n",
      "Retrieved Pattern: [1. 1. 1. 1.]\n"
     ]
    }
   ],
   "source": [
    "import numpy as np\n",
    "\n",
    "# Define the four vectors to store\n",
    "vectors = np.array([[-1, 1, -1, 1],\n",
    "                    [1, -1, 1, -1],\n",
    "                    [1, 1, -1, -1],\n",
    "                    [-1, -1, 1, 1]])\n",
    "\n",
    "# Number of vectors\n",
    "num_vectors = vectors.shape[0]\n",
    "\n",
    "# Number of neurons\n",
    "num_neurons = vectors.shape[1]\n",
    "\n",
    "# Initialize the weight matrix\n",
    "weights = np.zeros((num_neurons, num_neurons))\n",
    "\n",
    "# Calculate the weight matrix\n",
    "for i in range(num_vectors):\n",
    "    weights += np.outer(vectors[i], vectors[i])\n",
    "\n",
    "# Divide the weight matrix by the number of neurons\n",
    "weights /= num_neurons\n",
    "\n",
    "# Set the diagonal elements to 0 (no self-connections)\n",
    "np.fill_diagonal(weights, 0)\n",
    "\n",
    "# Define the activation function (bipolar sigmoid)\n",
    "def activation_func(x):\n",
    "    return np.where(x >= 0, 1, -1)\n",
    "\n",
    "# Define the energy function\n",
    "def energy_func(state, weights):\n",
    "    return -0.5 * np.dot(np.dot(state, weights), state.T)\n",
    "\n",
    "# Test the Hopfield Network\n",
    "test_vector = np.array([1, -1, 1, -1])\n",
    "state = test_vector.copy()\n",
    "\n",
    "print(\"Initial state:\", state)\n",
    "\n",
    "# Iterate until convergence\n",
    "for _ in range(100):\n",
    "    new_state = activation_func(np.dot(weights, state))\n",
    "    if np.array_equal(new_state, state):\n",
    "        break\n",
    "    state = new_state\n",
    "\n",
    "print(\"Final state:\", state)\n",
    "\n",
    "# Calculate the energy of the final state\n",
    "energy = energy_func(state, weights)\n",
    "print(\"Energy of the final state:\", energy)"
   ]
  }
 ],
 "metadata": {
  "kernelspec": {
   "display_name": "Python 3",
   "language": "python",
   "name": "python3"
  },
  "language_info": {
   "codemirror_mode": {
    "name": "ipython",
    "version": 3
   },
   "file_extension": ".py",
   "mimetype": "text/x-python",
   "name": "python",
   "nbconvert_exporter": "python",
   "pygments_lexer": "ipython3",
   "version": "3.10.11"
  }
 },
 "nbformat": 4,
 "nbformat_minor": 2
}
