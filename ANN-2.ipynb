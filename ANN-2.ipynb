{
 "cells": [
  {
   "cell_type": "markdown",
   "metadata": {},
   "source": [
    "2. Generate ANDNOT function using McCulloch-Pitts neural net by a python program."
   ]
  },
  {
   "cell_type": "code",
   "execution_count": 1,
   "metadata": {},
   "outputs": [],
   "source": [
    "import numpy as np"
   ]
  },
  {
   "cell_type": "code",
   "execution_count": 2,
   "metadata": {},
   "outputs": [
    {
     "name": "stdout",
     "output_type": "stream",
     "text": [
      "epoch 0: 0.5222640473160685\n",
      "epoch 500: 0.005956060909741467\n",
      "epoch 1000: 0.0027909805169653483\n",
      "epoch 1500: 0.0017971494920013265\n",
      "epoch 2000: 0.001318330159445229\n",
      "epoch 2500: 0.0010382738840144052\n",
      "epoch 3000: 0.0008550649381652644\n",
      "epoch 3500: 0.0007261142708946398\n",
      "epoch 4000: 0.0006305446697144335\n",
      "epoch 4500: 0.0005569425806036493\n",
      "epoch 5000: 0.0004985510048465783\n",
      "epoch 5500: 0.0004511187696597018\n",
      "epoch 6000: 0.00041183955805752846\n",
      "epoch 6500: 0.00037878724245195527\n",
      "epoch 7000: 0.00035059650322140097\n",
      "epoch 7500: 0.00032627293146644543\n",
      "epoch 8000: 0.0003050753039014666\n",
      "epoch 8500: 0.00028643996442254696\n",
      "epoch 9000: 0.0002699307466432482\n",
      "epoch 9500: 0.0002552049184287875\n",
      "epoch 10000: 0.00024198947611052434\n",
      "epoch 10500: 0.00023006429903228904\n",
      "epoch 11000: 0.00021924995683790836\n",
      "epoch 11500: 0.0002093987375289102\n",
      "epoch 12000: 0.0002003879464377055\n",
      "epoch 12500: 0.00019211483324441944\n",
      "epoch 13000: 0.0001844927039287982\n",
      "epoch 13500: 0.00017744790712797255\n",
      "epoch 14000: 0.0001709174739566951\n",
      "epoch 14500: 0.00016484725188466387\n",
      "epoch 15000: 0.00015919041618014145\n",
      "epoch 15500: 0.00015390627277629923\n",
      "epoch 16000: 0.00014895928815506328\n",
      "epoch 16500: 0.0001443182976020987\n",
      "epoch 17000: 0.00013995585473854514\n",
      "epoch 17500: 0.00013584769379141725\n",
      "epoch 18000: 0.0001319722824640143\n",
      "epoch 18500: 0.0001283104480975225\n",
      "epoch 19000: 0.00012484506349140243\n",
      "epoch 19500: 0.00012156078157135914\n",
      "epoch 20000: 0.00011844381027493385\n",
      "epoch 20500: 0.00011548172072318208\n",
      "epoch 21000: 0.00011266328307877706\n",
      "epoch 21500: 0.00010997832554140568\n",
      "epoch 22000: 0.00010741761276564276\n",
      "epoch 22500: 0.00010497274065231096\n",
      "epoch 23000: 0.00010263604499914113\n",
      "epoch 23500: 0.0001004005219279955\n",
      "epoch 24000: 9.825975835587335e-05\n",
      "epoch 24500: 9.620787106221973e-05\n"
     ]
    }
   ],
   "source": [
    "X=np.array([[0,0],\n",
    "            [0,1],\n",
    "            [1,0],\n",
    "            [1,1]]\n",
    ")\n",
    "y=np.array([[0],\n",
    "            [0],\n",
    "            [1],\n",
    "            [0]])\n",
    "lr=0.5\n",
    "np.random.seed(0)\n",
    "weights=np.random.randn(2,1)\n",
    "bias=np.random.randn(1)\n",
    "\n",
    "def sigmoid(x):\n",
    "    return 1/(1+np.exp(-x))\n",
    "\n",
    "def sigmoid_derivative(x):\n",
    "    return x*(1-x)\n",
    "\n",
    "def cost_fun(y,output):\n",
    "    return np.mean((y-output)**2)\n",
    "\n",
    "def forward_fun(x,weights, bias):\n",
    "    z = np.dot(x,weights) + bias\n",
    "    return sigmoid(z)\n",
    "\n",
    "def backward_fun(X,y,output, weights,bias,lr):\n",
    "    error = y - output\n",
    "    d_output = error * sigmoid_derivative(output)\n",
    "    d_weights = np.dot(X.T, d_output)\n",
    "    d_bias = np.sum(d_output)\n",
    "\n",
    "    weights += lr * d_weights\n",
    "    bias += lr * d_bias\n",
    "\n",
    "    return weights,bias\n",
    "\n",
    "for epoch in range(25000):\n",
    "    output = forward_fun(X,weights,bias)\n",
    "    weights, bias = backward_fun(X,y,output, weights,bias,lr)\n",
    "\n",
    "    cost = cost_fun(y, output)\n",
    "    if epoch%500 == 0:\n",
    "        print(f'epoch {epoch}:', cost)\n"
   ]
  },
  {
   "cell_type": "code",
   "execution_count": 4,
   "metadata": {},
   "outputs": [
    {
     "name": "stdout",
     "output_type": "stream",
     "text": [
      "[[0.]\n",
      " [0.]\n",
      " [1.]\n",
      " [0.]]\n"
     ]
    }
   ],
   "source": [
    "testing = np.array([[0,0],\n",
    "   [0,1],\n",
    "   [1,0],\n",
    "   [1,1]])\n",
    "print(forward_fun(testing,weights,bias).round())"
   ]
  }
 ],
 "metadata": {
  "kernelspec": {
   "display_name": "Python 3",
   "language": "python",
   "name": "python3"
  },
  "language_info": {
   "codemirror_mode": {
    "name": "ipython",
    "version": 3
   },
   "file_extension": ".py",
   "mimetype": "text/x-python",
   "name": "python",
   "nbconvert_exporter": "python",
   "pygments_lexer": "ipython3",
   "version": "3.10.11"
  }
 },
 "nbformat": 4,
 "nbformat_minor": 2
}
