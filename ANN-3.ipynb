{
 "cells": [
  {
   "cell_type": "markdown",
   "metadata": {},
   "source": [
    "3. Write a Python Program using Perceptron Neural Network to recognise even and odd numbers. Given numbers are in ASCII form 0 to 9"
   ]
  },
  {
   "cell_type": "code",
   "execution_count": 10,
   "metadata": {},
   "outputs": [],
   "source": [
    "import numpy as np"
   ]
  },
  {
   "cell_type": "code",
   "execution_count": 11,
   "metadata": {},
   "outputs": [
    {
     "name": "stdout",
     "output_type": "stream",
     "text": [
      "epoch 0: 0.31841061183386843\n",
      "epoch 500: 0.001154195514904574\n",
      "epoch 1000: 0.0005527815281697777\n",
      "epoch 1500: 0.0003615996127240567\n",
      "epoch 2000: 0.00026816949735994106\n",
      "epoch 2500: 0.0002129047349460999\n",
      "epoch 3000: 0.00017642802000378334\n",
      "epoch 3500: 0.00015056829178973881\n",
      "epoch 4000: 0.00013128790986181526\n",
      "epoch 4500: 0.00011636408975697004\n",
      "epoch 5000: 0.00010447290294978083\n",
      "epoch 5500: 9.477694852516676e-05\n",
      "epoch 6000: 8.67208199299299e-05\n",
      "epoch 6500: 7.99217018299299e-05\n",
      "epoch 7000: 7.410720836731005e-05\n",
      "epoch 7500: 6.907826970485683e-05\n",
      "epoch 8000: 6.468603654208866e-05\n",
      "epoch 8500: 6.081699348654261e-05\n",
      "epoch 9000: 5.7383068882286854e-05\n",
      "epoch 9500: 5.431488895026099e-05\n",
      "epoch 10000: 5.1557069077997284e-05\n",
      "epoch 10500: 4.906485918019418e-05\n",
      "epoch 11000: 4.6801709779877045e-05\n",
      "epoch 11500: 4.4737476987591015e-05\n",
      "epoch 12000: 4.284707898566957e-05\n",
      "epoch 12500: 4.1109476897349175e-05\n",
      "epoch 13000: 3.9506892231509145e-05\n",
      "epoch 13500: 3.8024199240479374e-05\n",
      "epoch 14000: 3.664844823232704e-05\n",
      "epoch 14500: 3.536848806397573e-05\n",
      "epoch 15000: 3.417466455468044e-05\n",
      "epoch 15500: 3.3058577590218256e-05\n",
      "epoch 16000: 3.201288401543213e-05\n",
      "epoch 16500: 3.103113655488103e-05\n",
      "epoch 17000: 3.0107651308194682e-05\n",
      "epoch 17500: 2.9237398077936484e-05\n",
      "epoch 18000: 2.8415909069414206e-05\n",
      "epoch 18500: 2.7639202470502225e-05\n",
      "epoch 19000: 2.6903718157829984e-05\n",
      "epoch 19500: 2.6206263342936426e-05\n",
      "epoch 20000: 2.5543966411081347e-05\n",
      "epoch 20500: 2.4914237547773287e-05\n",
      "epoch 21000: 2.4314735016772237e-05\n",
      "epoch 21500: 2.374333616555267e-05\n",
      "epoch 22000: 2.3198112402923128e-05\n",
      "epoch 22500: 2.2677307528273585e-05\n",
      "epoch 23000: 2.2179318900290193e-05\n",
      "epoch 23500: 2.1702681020463092e-05\n",
      "epoch 24000: 2.1246051177799126e-05\n",
      "epoch 24500: 2.0808196859061405e-05\n"
     ]
    }
   ],
   "source": [
    "X=np.array([[0,0,0,0,0,0,0,0,0,0], # 0\n",
    "[0,0,0,0,0,0,0,0,0,1], # 1\n",
    "[0,0,0,0,0,0,0,0,1,0], # 2\n",
    "[0,0,0,0,0,0,0,0,1,1], # 3\n",
    "[0,0,0,0,0,0,0,1,0,0], # 4\n",
    "[0,0,0,0,0,0,0,1,0,1], # 5\n",
    "[0,0,0,0,0,0,0,1,1,0], # 6\n",
    "[0,0,0,0,0,0,0,1,1,1], # 7\n",
    "[0,0,0,0,0,0,1,0,0,0], # 8\n",
    "[0,0,0,0,0,0,1,0,0,1]] # 9\n",
    ")\n",
    "y=np.array([[1],\n",
    "           [0],\n",
    "           [1],\n",
    "           [0],\n",
    "           [1],\n",
    "           [0],\n",
    "           [1],\n",
    "           [0],\n",
    "           [1],\n",
    "           [0]])\n",
    "lr=0.5\n",
    "np.random.seed(0)\n",
    "weights=np.random.randn(10,1)\n",
    "bias=np.random.randn(1)\n",
    "\n",
    "def sigmoid(x):\n",
    "    return 1/(1+np.exp(-x))\n",
    "\n",
    "def sigmoid_derivative(x):\n",
    "    return x*(1-x)\n",
    "\n",
    "def cost_fun(y,output):\n",
    "    return np.mean((y-output)**2)\n",
    "\n",
    "def forward_fun(x,weights, bias):\n",
    "    z = np.dot(x,weights) + bias\n",
    "    return sigmoid(z)\n",
    "\n",
    "def backward_fun(X,y,output, weights,bias,lr):\n",
    "    error = y - output\n",
    "    d_output = error * sigmoid_derivative(output)\n",
    "    d_weights = np.dot(X.T, d_output)\n",
    "    d_bias = np.sum(d_output)\n",
    "\n",
    "    weights += lr * d_weights\n",
    "    bias += lr * d_bias\n",
    "\n",
    "    return weights,bias\n",
    "\n",
    "for epoch in range(25000):\n",
    "    output = forward_fun(X,weights,bias)\n",
    "    weights, bias = backward_fun(X,y,output, weights,bias,lr)\n",
    "\n",
    "    cost = cost_fun(y, output)\n",
    "    if epoch%500 == 0:\n",
    "        print(f'epoch {epoch}:', cost)\n"
   ]
  },
  {
   "cell_type": "code",
   "execution_count": 15,
   "metadata": {},
   "outputs": [
    {
     "name": "stdout",
     "output_type": "stream",
     "text": [
      "[1.]\n"
     ]
    }
   ],
   "source": [
    "testing = np.array([0,0,0,0,0,0,0,0,0,0])\n",
    "print(forward_fun(testing,weights,bias).round())"
   ]
  },
  {
   "cell_type": "code",
   "execution_count": null,
   "metadata": {},
   "outputs": [],
   "source": []
  }
 ],
 "metadata": {
  "kernelspec": {
   "display_name": "Python 3",
   "language": "python",
   "name": "python3"
  },
  "language_info": {
   "codemirror_mode": {
    "name": "ipython",
    "version": 3
   },
   "file_extension": ".py",
   "mimetype": "text/x-python",
   "name": "python",
   "nbconvert_exporter": "python",
   "pygments_lexer": "ipython3",
   "version": "3.10.11"
  }
 },
 "nbformat": 4,
 "nbformat_minor": 2
}
